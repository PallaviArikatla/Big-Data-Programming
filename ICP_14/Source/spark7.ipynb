{
  "nbformat": 4,
  "nbformat_minor": 0,
  "metadata": {
    "colab": {
      "name": "spark7.ipynb",
      "provenance": []
    },
    "kernelspec": {
      "name": "python3",
      "display_name": "Python 3"
    }
  },
  "cells": [
    {
      "cell_type": "code",
      "metadata": {
        "id": "d6-v4ndUhnSy",
        "colab_type": "code",
        "colab": {
          "base_uri": "https://localhost:8080/",
          "height": 235
        },
        "outputId": "2b4b7d2e-bc38-41c5-dff0-2995c4e3d3e3"
      },
      "source": [
        "pip install pyspark"
      ],
      "execution_count": 2,
      "outputs": [
        {
          "output_type": "stream",
          "text": [
            "Collecting pyspark\n",
            "\u001b[?25l  Downloading https://files.pythonhosted.org/packages/8e/b0/bf9020b56492281b9c9d8aae8f44ff51e1bc91b3ef5a884385cb4e389a40/pyspark-3.0.0.tar.gz (204.7MB)\n",
            "\u001b[K     |████████████████████████████████| 204.7MB 61kB/s \n",
            "\u001b[?25hCollecting py4j==0.10.9\n",
            "\u001b[?25l  Downloading https://files.pythonhosted.org/packages/9e/b6/6a4fb90cd235dc8e265a6a2067f2a2c99f0d91787f06aca4bcf7c23f3f80/py4j-0.10.9-py2.py3-none-any.whl (198kB)\n",
            "\u001b[K     |████████████████████████████████| 204kB 45.0MB/s \n",
            "\u001b[?25hBuilding wheels for collected packages: pyspark\n",
            "  Building wheel for pyspark (setup.py) ... \u001b[?25l\u001b[?25hdone\n",
            "  Created wheel for pyspark: filename=pyspark-3.0.0-py2.py3-none-any.whl size=205044182 sha256=a172befca480e6bd112a6c48229e732f1910e04bd6adc93d95061849e80f70ec\n",
            "  Stored in directory: /root/.cache/pip/wheels/57/27/4d/ddacf7143f8d5b76c45c61ee2e43d9f8492fc5a8e78ebd7d37\n",
            "Successfully built pyspark\n",
            "Installing collected packages: py4j, pyspark\n",
            "Successfully installed py4j-0.10.9 pyspark-3.0.0\n"
          ],
          "name": "stdout"
        }
      ]
    },
    {
      "cell_type": "code",
      "metadata": {
        "id": "ncmZFdvwiCWA",
        "colab_type": "code",
        "colab": {
          "base_uri": "https://localhost:8080/",
          "height": 84
        },
        "outputId": "bd65b47f-2ff7-461e-b0f9-af17ab152913"
      },
      "source": [
        "pip install findspark"
      ],
      "execution_count": 3,
      "outputs": [
        {
          "output_type": "stream",
          "text": [
            "Collecting findspark\n",
            "  Downloading https://files.pythonhosted.org/packages/fc/2d/2e39f9a023479ea798eed4351cd66f163ce61e00c717e03c37109f00c0f2/findspark-1.4.2-py2.py3-none-any.whl\n",
            "Installing collected packages: findspark\n",
            "Successfully installed findspark-1.4.2\n"
          ],
          "name": "stdout"
        }
      ]
    },
    {
      "cell_type": "code",
      "metadata": {
        "id": "sUtIhc8riIl_",
        "colab_type": "code",
        "colab": {}
      },
      "source": [
        "from pyspark.sql import SparkSession\n",
        "from pyspark.sql import *\n",
        "from pyspark.sql.types import DoubleType,IntegerType\n",
        "import pyspark.sql.functions as F\n",
        "\n",
        "spark = SparkSession \\\n",
        "    .builder \\\n",
        "    .appName(\"S ICP14\") \\\n",
        "    .getOrCreate()"
      ],
      "execution_count": 7,
      "outputs": []
    },
    {
      "cell_type": "code",
      "metadata": {
        "id": "sFV0ZqIGigIg",
        "colab_type": "code",
        "colab": {}
      },
      "source": [
        "from pyspark.ml.feature import VectorAssembler\n",
        "from pyspark.ml.classification import NaiveBayes\n",
        "from pyspark.ml.evaluation import MulticlassClassificationEvaluator"
      ],
      "execution_count": 8,
      "outputs": []
    },
    {
      "cell_type": "code",
      "metadata": {
        "id": "tb8bXcCRlbWH",
        "colab_type": "code",
        "colab": {
          "resources": {
            "http://localhost:8080/nbextensions/google.colab/files.js": {
              "data": "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",
              "ok": true,
              "headers": [
                [
                  "content-type",
                  "application/javascript"
                ]
              ],
              "status": 200,
              "status_text": ""
            }
          },
          "base_uri": "https://localhost:8080/",
          "height": 140
        },
        "outputId": "1559795c-8e86-469d-d89f-c648cebc56ac"
      },
      "source": [
        "from google.colab import files\n",
        "uploaded = files.upload()"
      ],
      "execution_count": 24,
      "outputs": [
        {
          "output_type": "display_data",
          "data": {
            "text/html": [
              "\n",
              "     <input type=\"file\" id=\"files-8eaac41a-0c6a-4ed8-be72-a127b6ac65b4\" name=\"files[]\" multiple disabled\n",
              "        style=\"border:none\" />\n",
              "     <output id=\"result-8eaac41a-0c6a-4ed8-be72-a127b6ac65b4\">\n",
              "      Upload widget is only available when the cell has been executed in the\n",
              "      current browser session. Please rerun this cell to enable.\n",
              "      </output>\n",
              "      <script src=\"/nbextensions/google.colab/files.js\"></script> "
            ],
            "text/plain": [
              "<IPython.core.display.HTML object>"
            ]
          },
          "metadata": {
            "tags": []
          }
        },
        {
          "output_type": "stream",
          "text": [
            "Saving adult.csv to adult.csv\n",
            "Saving diabetic_data.csv to diabetic_data (1).csv\n",
            "Saving imports-85.csv to imports-85.csv\n"
          ],
          "name": "stdout"
        }
      ]
    },
    {
      "cell_type": "code",
      "metadata": {
        "id": "bWMGZsPc0dpg",
        "colab_type": "code",
        "colab": {
          "base_uri": "https://localhost:8080/",
          "height": 474
        },
        "outputId": "2e75aae4-2131-4977-c647-1dfa9d4a2582"
      },
      "source": [
        "adult_data_df = spark.read.load(r\"adult.csv\", format=\"csv\", header=True, delimiter=\",\")\n",
        "adult_data_df.show()"
      ],
      "execution_count": 25,
      "outputs": [
        {
          "output_type": "stream",
          "text": [
            "+---+-----------------+------+-------------+-------------+--------------------+------------------+--------------+-------------------+-------+------------+------------+--------------+--------------+------+\n",
            "|age|        workclass|fnlwgt|    education|education-num|      marital-status|        occupation|  relationship|               race|    sex|capital-gain|capital-loss|hours-per-week|native-country|     X|\n",
            "+---+-----------------+------+-------------+-------------+--------------------+------------------+--------------+-------------------+-------+------------+------------+--------------+--------------+------+\n",
            "| 39|        State-gov| 77516|    Bachelors|           13|       Never-married|      Adm-clerical| Not-in-family|              White|   Male|        2174|           0|            40| United-States| <=50K|\n",
            "| 50| Self-emp-not-inc| 83311|    Bachelors|           13|  Married-civ-spouse|   Exec-managerial|       Husband|              White|   Male|           0|           0|            13| United-States| <=50K|\n",
            "| 38|          Private|215646|      HS-grad|            9|            Divorced| Handlers-cleaners| Not-in-family|              White|   Male|           0|           0|            40| United-States| <=50K|\n",
            "| 53|          Private|234721|         11th|            7|  Married-civ-spouse| Handlers-cleaners|       Husband|              Black|   Male|           0|           0|            40| United-States| <=50K|\n",
            "| 28|          Private|338409|    Bachelors|           13|  Married-civ-spouse|    Prof-specialty|          Wife|              Black| Female|           0|           0|            40|          Cuba| <=50K|\n",
            "| 37|          Private|284582|      Masters|           14|  Married-civ-spouse|   Exec-managerial|          Wife|              White| Female|           0|           0|            40| United-States| <=50K|\n",
            "| 49|          Private|160187|          9th|            5| Married-spouse-a...|     Other-service| Not-in-family|              Black| Female|           0|           0|            16|       Jamaica| <=50K|\n",
            "| 52| Self-emp-not-inc|209642|      HS-grad|            9|  Married-civ-spouse|   Exec-managerial|       Husband|              White|   Male|           0|           0|            45| United-States|  >50K|\n",
            "| 31|          Private| 45781|      Masters|           14|       Never-married|    Prof-specialty| Not-in-family|              White| Female|       14084|           0|            50| United-States|  >50K|\n",
            "| 42|          Private|159449|    Bachelors|           13|  Married-civ-spouse|   Exec-managerial|       Husband|              White|   Male|        5178|           0|            40| United-States|  >50K|\n",
            "| 37|          Private|280464| Some-college|           10|  Married-civ-spouse|   Exec-managerial|       Husband|              Black|   Male|           0|           0|            80| United-States|  >50K|\n",
            "| 30|        State-gov|141297|    Bachelors|           13|  Married-civ-spouse|    Prof-specialty|       Husband| Asian-Pac-Islander|   Male|           0|           0|            40|         India|  >50K|\n",
            "| 23|          Private|122272|    Bachelors|           13|       Never-married|      Adm-clerical|     Own-child|              White| Female|           0|           0|            30| United-States| <=50K|\n",
            "| 32|          Private|205019|   Assoc-acdm|           12|       Never-married|             Sales| Not-in-family|              Black|   Male|           0|           0|            50| United-States| <=50K|\n",
            "| 40|          Private|121772|    Assoc-voc|           11|  Married-civ-spouse|      Craft-repair|       Husband| Asian-Pac-Islander|   Male|           0|           0|            40|             ?|  >50K|\n",
            "| 34|          Private|245487|      7th-8th|            4|  Married-civ-spouse|  Transport-moving|       Husband| Amer-Indian-Eskimo|   Male|           0|           0|            45|        Mexico| <=50K|\n",
            "| 25| Self-emp-not-inc|176756|      HS-grad|            9|       Never-married|   Farming-fishing|     Own-child|              White|   Male|           0|           0|            35| United-States| <=50K|\n",
            "| 32|          Private|186824|      HS-grad|            9|       Never-married| Machine-op-inspct|     Unmarried|              White|   Male|           0|           0|            40| United-States| <=50K|\n",
            "| 38|          Private| 28887|         11th|            7|  Married-civ-spouse|             Sales|       Husband|              White|   Male|           0|           0|            50| United-States| <=50K|\n",
            "| 43| Self-emp-not-inc|292175|      Masters|           14|            Divorced|   Exec-managerial|     Unmarried|              White| Female|           0|           0|            45| United-States|  >50K|\n",
            "+---+-----------------+------+-------------+-------------+--------------------+------------------+--------------+-------------------+-------+------------+------------+--------------+--------------+------+\n",
            "only showing top 20 rows\n",
            "\n"
          ],
          "name": "stdout"
        }
      ]
    },
    {
      "cell_type": "code",
      "metadata": {
        "id": "bDnGhoQC0lQf",
        "colab_type": "code",
        "colab": {}
      },
      "source": [
        "adult_data_df = adult_data_df.withColumn(\"age\", adult_data_df[\"age\"].cast(IntegerType()))\n",
        "adult_data_df = adult_data_df.withColumn(\"fnlwgt\", adult_data_df[\"fnlwgt\"].cast(IntegerType()))\n",
        "adult_data_df = adult_data_df.withColumn(\"education-num\", adult_data_df[\"education-num\"].cast(IntegerType()))\n",
        "adult_data_df = adult_data_df.withColumn(\"capital-gain\", adult_data_df[\"capital-gain\"].cast(IntegerType()))\n",
        "adult_data_df = adult_data_df.withColumn(\"capital-loss\", adult_data_df[\"capital-loss\"].cast(IntegerType()))\n",
        "adult_data_df = adult_data_df.withColumn(\"hours-per-week\", adult_data_df[\"hours-per-week\"].cast(IntegerType()))"
      ],
      "execution_count": 26,
      "outputs": []
    },
    {
      "cell_type": "code",
      "metadata": {
        "id": "O41cfOJG0p3B",
        "colab_type": "code",
        "colab": {
          "base_uri": "https://localhost:8080/",
          "height": 302
        },
        "outputId": "64a079ed-a94a-46e4-9fb8-39ab8346527e"
      },
      "source": [
        "adult_data_df.printSchema()"
      ],
      "execution_count": 27,
      "outputs": [
        {
          "output_type": "stream",
          "text": [
            "root\n",
            " |-- age: integer (nullable = true)\n",
            " |-- workclass: string (nullable = true)\n",
            " |-- fnlwgt: integer (nullable = true)\n",
            " |-- education: string (nullable = true)\n",
            " |-- education-num: integer (nullable = true)\n",
            " |-- marital-status: string (nullable = true)\n",
            " |-- occupation: string (nullable = true)\n",
            " |-- relationship: string (nullable = true)\n",
            " |-- race: string (nullable = true)\n",
            " |-- sex: string (nullable = true)\n",
            " |-- capital-gain: integer (nullable = true)\n",
            " |-- capital-loss: integer (nullable = true)\n",
            " |-- hours-per-week: integer (nullable = true)\n",
            " |-- native-country: string (nullable = true)\n",
            " |-- X: string (nullable = true)\n",
            "\n"
          ],
          "name": "stdout"
        }
      ]
    },
    {
      "cell_type": "code",
      "metadata": {
        "id": "I1oFci1P0tsz",
        "colab_type": "code",
        "colab": {
          "base_uri": "https://localhost:8080/",
          "height": 319
        },
        "outputId": "095eb553-1a57-4a4d-9b4c-730671f6f46b"
      },
      "source": [
        "adult_data_df = adult_data_df.withColumn(\"label\", adult_data_df['hours-per-week'] - 0)\n",
        "adult_data_df.printSchema()"
      ],
      "execution_count": 28,
      "outputs": [
        {
          "output_type": "stream",
          "text": [
            "root\n",
            " |-- age: integer (nullable = true)\n",
            " |-- workclass: string (nullable = true)\n",
            " |-- fnlwgt: integer (nullable = true)\n",
            " |-- education: string (nullable = true)\n",
            " |-- education-num: integer (nullable = true)\n",
            " |-- marital-status: string (nullable = true)\n",
            " |-- occupation: string (nullable = true)\n",
            " |-- relationship: string (nullable = true)\n",
            " |-- race: string (nullable = true)\n",
            " |-- sex: string (nullable = true)\n",
            " |-- capital-gain: integer (nullable = true)\n",
            " |-- capital-loss: integer (nullable = true)\n",
            " |-- hours-per-week: integer (nullable = true)\n",
            " |-- native-country: string (nullable = true)\n",
            " |-- X: string (nullable = true)\n",
            " |-- label: integer (nullable = true)\n",
            "\n"
          ],
          "name": "stdout"
        }
      ]
    },
    {
      "cell_type": "code",
      "metadata": {
        "id": "G0GfeQer0yAQ",
        "colab_type": "code",
        "colab": {
          "base_uri": "https://localhost:8080/",
          "height": 222
        },
        "outputId": "06a75d5f-7502-460c-c4a2-4c64d802a6f1"
      },
      "source": [
        "assem = VectorAssembler(inputCols=adult_data_df.columns[10:13], outputCol='features')\n",
        "x = assem.transform(adult_data_df)\n",
        "x.show(5)"
      ],
      "execution_count": 29,
      "outputs": [
        {
          "output_type": "stream",
          "text": [
            "+---+-----------------+------+----------+-------------+-------------------+------------------+--------------+------+-------+------------+------------+--------------+--------------+------+-----+-----------------+\n",
            "|age|        workclass|fnlwgt| education|education-num|     marital-status|        occupation|  relationship|  race|    sex|capital-gain|capital-loss|hours-per-week|native-country|     X|label|         features|\n",
            "+---+-----------------+------+----------+-------------+-------------------+------------------+--------------+------+-------+------------+------------+--------------+--------------+------+-----+-----------------+\n",
            "| 39|        State-gov| 77516| Bachelors|           13|      Never-married|      Adm-clerical| Not-in-family| White|   Male|        2174|           0|            40| United-States| <=50K|   40|[2174.0,0.0,40.0]|\n",
            "| 50| Self-emp-not-inc| 83311| Bachelors|           13| Married-civ-spouse|   Exec-managerial|       Husband| White|   Male|           0|           0|            13| United-States| <=50K|   13|   [0.0,0.0,13.0]|\n",
            "| 38|          Private|215646|   HS-grad|            9|           Divorced| Handlers-cleaners| Not-in-family| White|   Male|           0|           0|            40| United-States| <=50K|   40|   [0.0,0.0,40.0]|\n",
            "| 53|          Private|234721|      11th|            7| Married-civ-spouse| Handlers-cleaners|       Husband| Black|   Male|           0|           0|            40| United-States| <=50K|   40|   [0.0,0.0,40.0]|\n",
            "| 28|          Private|338409| Bachelors|           13| Married-civ-spouse|    Prof-specialty|          Wife| Black| Female|           0|           0|            40|          Cuba| <=50K|   40|   [0.0,0.0,40.0]|\n",
            "+---+-----------------+------+----------+-------------+-------------------+------------------+--------------+------+-------+------------+------------+--------------+--------------+------+-----+-----------------+\n",
            "only showing top 5 rows\n",
            "\n"
          ],
          "name": "stdout"
        }
      ]
    },
    {
      "cell_type": "code",
      "metadata": {
        "id": "-IER73pd04UE",
        "colab_type": "code",
        "colab": {
          "base_uri": "https://localhost:8080/",
          "height": 205
        },
        "outputId": "7fef937a-1979-4a1f-8613-d9d021f645e8"
      },
      "source": [
        "train,test = x.randomSplit([0.6, 0.4], 1234)\n",
        "nb1 = NaiveBayes(smoothing=1.0, modelType=\"multinomial\")\n",
        "model1 = nb1.fit(train)\n",
        "predictions = model1.transform(test)\n",
        "predictions.show(3)\n",
        "evaluator = MulticlassClassificationEvaluator(labelCol=\"label\", predictionCol=\"prediction\",\n",
        "                                              metricName=\"accuracy\")\n",
        "accuracy = evaluator.evaluate(predictions)\n",
        "print(\"Test set accuracy = \" + str(accuracy))"
      ],
      "execution_count": 30,
      "outputs": [
        {
          "output_type": "stream",
          "text": [
            "+---+---------+------+---------+-------------+--------------+----------+------------+------+-------+------------+------------+--------------+--------------+------+-----+--------------+--------------------+--------------------+----------+\n",
            "|age|workclass|fnlwgt|education|education-num|marital-status|occupation|relationship|  race|    sex|capital-gain|capital-loss|hours-per-week|native-country|     X|label|      features|       rawPrediction|         probability|prediction|\n",
            "+---+---------+------+---------+-------------+--------------+----------+------------+------+-------+------------+------------+--------------+--------------+------+-----+--------------+--------------------+--------------------+----------+\n",
            "| 17|        ?| 34019|     10th|            6| Never-married|         ?|   Own-child| White|   Male|           0|           0|            20| United-States| <=50K|   20|[0.0,0.0,20.0]|[-99.699068497548...|[1.07468075898575...|      48.0|\n",
            "| 17|        ?| 34088|     12th|            8| Never-married|         ?|   Own-child| White| Female|           0|           0|            25| United-States| <=50K|   25|[0.0,0.0,25.0]|[-122.81341731298...|[1.03077614281196...|      48.0|\n",
            "| 17|        ?| 48703|     11th|            7| Never-married|         ?|   Own-child| White| Female|           0|           0|            30| United-States| <=50K|   30|[0.0,0.0,30.0]|[-145.92776612842...|[9.87215454791753...|      48.0|\n",
            "+---+---------+------+---------+-------------+--------------+----------+------------+------+-------+------------+------------+--------------+--------------+------+-----+--------------+--------------------+--------------------+----------+\n",
            "only showing top 3 rows\n",
            "\n",
            "Test set accuracy = 0.014654251259349717\n"
          ],
          "name": "stdout"
        }
      ]
    },
    {
      "cell_type": "code",
      "metadata": {
        "id": "V_x1umh406Sj",
        "colab_type": "code",
        "colab": {
          "base_uri": "https://localhost:8080/",
          "height": 205
        },
        "outputId": "816f651f-0dfe-46ad-b6ab-deed15c62649"
      },
      "source": [
        "nb2 = NaiveBayes(smoothing=10.0, modelType=\"multinomial\")\n",
        "\n",
        "# train the model\n",
        "model2 = nb2.fit(train)\n",
        "\n",
        "# select example rows to display.\n",
        "predictions = model2.transform(test)\n",
        "predictions.show(3)\n",
        "# compute accuracy on the test set\n",
        "evaluator = MulticlassClassificationEvaluator(labelCol=\"label\", predictionCol=\"prediction\",\n",
        "                                              metricName=\"accuracy\")\n",
        "accuracy = evaluator.evaluate(predictions)\n",
        "print(\"Test set accuracy = \" + str(accuracy))"
      ],
      "execution_count": 31,
      "outputs": [
        {
          "output_type": "stream",
          "text": [
            "+---+---------+------+---------+-------------+--------------+----------+------------+------+-------+------------+------------+--------------+--------------+------+-----+--------------+--------------------+--------------------+----------+\n",
            "|age|workclass|fnlwgt|education|education-num|marital-status|occupation|relationship|  race|    sex|capital-gain|capital-loss|hours-per-week|native-country|     X|label|      features|       rawPrediction|         probability|prediction|\n",
            "+---+---------+------+---------+-------------+--------------+----------+------------+------+-------+------------+------------+--------------+--------------+------+-----+--------------+--------------------+--------------------+----------+\n",
            "| 17|        ?| 34019|     10th|            6| Never-married|         ?|   Own-child| White|   Male|           0|           0|            20| United-States| <=50K|   20|[0.0,0.0,20.0]|[-89.690334789396...|[3.96471113735323...|      48.0|\n",
            "| 17|        ?| 34088|     12th|            8| Never-married|         ?|   Own-child| White| Female|           0|           0|            25| United-States| <=50K|   25|[0.0,0.0,25.0]|[-110.41634968667...|[4.95252920754608...|      48.0|\n",
            "| 17|        ?| 48703|     11th|            7| Never-married|         ?|   Own-child| White| Female|           0|           0|            30| United-States| <=50K|   30|[0.0,0.0,30.0]|[-131.14236458395...|[5.99320624027930...|      48.0|\n",
            "+---+---------+------+---------+-------------+--------------+----------+------------+------+-------+------------+------------+--------------+--------------+------+-----+--------------+--------------------+--------------------+----------+\n",
            "only showing top 3 rows\n",
            "\n",
            "Test set accuracy = 0.014654251259349717\n"
          ],
          "name": "stdout"
        }
      ]
    },
    {
      "cell_type": "code",
      "metadata": {
        "id": "0nafQX2B0-1s",
        "colab_type": "code",
        "colab": {
          "base_uri": "https://localhost:8080/",
          "height": 205
        },
        "outputId": "a4314949-96ca-4ea5-d526-c3a863550b4b"
      },
      "source": [
        "from pyspark.ml.classification import DecisionTreeClassifier\n",
        "nb3 = DecisionTreeClassifier(labelCol=\"label\", featuresCol=\"features\")\n",
        "\n",
        "# train the model\n",
        "model3 = nb3.fit(train)\n",
        "\n",
        "# select example rows to display.\n",
        "predictions = model3.transform(test)\n",
        "predictions.show(3)\n",
        "\n",
        "# compute accuracy on the test set\n",
        "evaluator = MulticlassClassificationEvaluator(labelCol=\"label\", predictionCol=\"prediction\",\n",
        "                                              metricName=\"accuracy\")\n",
        "accuracy = evaluator.evaluate(predictions)\n",
        "print(\"Test set accuracy = \" + str(accuracy))"
      ],
      "execution_count": 32,
      "outputs": [
        {
          "output_type": "stream",
          "text": [
            "+---+---------+------+---------+-------------+--------------+----------+------------+------+-------+------------+------------+--------------+--------------+------+-----+--------------+--------------------+--------------------+----------+\n",
            "|age|workclass|fnlwgt|education|education-num|marital-status|occupation|relationship|  race|    sex|capital-gain|capital-loss|hours-per-week|native-country|     X|label|      features|       rawPrediction|         probability|prediction|\n",
            "+---+---------+------+---------+-------------+--------------+----------+------------+------+-------+------------+------------+--------------+--------------+------+-----+--------------+--------------------+--------------------+----------+\n",
            "| 17|        ?| 34019|     10th|            6| Never-married|         ?|   Own-child| White|   Male|           0|           0|            20| United-States| <=50K|   20|[0.0,0.0,20.0]|[0.0,13.0,24.0,22...|[0.0,0.0066666666...|      20.0|\n",
            "| 17|        ?| 34088|     12th|            8| Never-married|         ?|   Own-child| White| Female|           0|           0|            25| United-States| <=50K|   25|[0.0,0.0,25.0]|[0.0,0.0,0.0,0.0,...|[0.0,0.0,0.0,0.0,...|      25.0|\n",
            "| 17|        ?| 48703|     11th|            7| Never-married|         ?|   Own-child| White| Female|           0|           0|            30| United-States| <=50K|   30|[0.0,0.0,30.0]|[0.0,0.0,0.0,0.0,...|[0.0,0.0,0.0,0.0,...|      30.0|\n",
            "+---+---------+------+---------+-------------+--------------+----------+------------+------+-------+------------+------------+--------------+--------------+------+-----+--------------+--------------------+--------------------+----------+\n",
            "only showing top 3 rows\n",
            "\n",
            "Test set accuracy = 0.8742176766905816\n"
          ],
          "name": "stdout"
        }
      ]
    },
    {
      "cell_type": "code",
      "metadata": {
        "id": "favqFYbR1Gs-",
        "colab_type": "code",
        "colab": {
          "base_uri": "https://localhost:8080/",
          "height": 205
        },
        "outputId": "27533382-099f-4d9b-d84d-d8b4212c8f12"
      },
      "source": [
        "from pyspark.ml.classification import RandomForestClassifier\n",
        "\n",
        "# create the trainer and set its parameters\n",
        "nb3 = RandomForestClassifier(labelCol=\"label\", featuresCol=\"features\", numTrees=10)\n",
        "\n",
        "# train the model\n",
        "model3 = nb3.fit(train)\n",
        "\n",
        "# select example rows to display.\n",
        "predictions = model3.transform(test)\n",
        "predictions.show(3)\n",
        "\n",
        "# compute accuracy on the test set\n",
        "evaluator = MulticlassClassificationEvaluator(labelCol=\"label\", predictionCol=\"prediction\",\n",
        "                                              metricName=\"accuracy\")\n",
        "accuracy = evaluator.evaluate(predictions)\n",
        "print(\"Test set accuracy = \" + str(accuracy))"
      ],
      "execution_count": 33,
      "outputs": [
        {
          "output_type": "stream",
          "text": [
            "+---+---------+------+---------+-------------+--------------+----------+------------+------+-------+------------+------------+--------------+--------------+------+-----+--------------+--------------------+--------------------+----------+\n",
            "|age|workclass|fnlwgt|education|education-num|marital-status|occupation|relationship|  race|    sex|capital-gain|capital-loss|hours-per-week|native-country|     X|label|      features|       rawPrediction|         probability|prediction|\n",
            "+---+---------+------+---------+-------------+--------------+----------+------------+------+-------+------------+------------+--------------+--------------+------+-----+--------------+--------------------+--------------------+----------+\n",
            "| 17|        ?| 34019|     10th|            6| Never-married|         ?|   Own-child| White|   Male|           0|           0|            20| United-States| <=50K|   20|[0.0,0.0,20.0]|[0.0,0.0371970583...|[0.0,0.0037197058...|      20.0|\n",
            "| 17|        ?| 34088|     12th|            8| Never-married|         ?|   Own-child| White| Female|           0|           0|            25| United-States| <=50K|   25|[0.0,0.0,25.0]|[0.0,0.0336738639...|[0.0,0.0033673863...|      20.0|\n",
            "| 17|        ?| 48703|     11th|            7| Never-married|         ?|   Own-child| White| Female|           0|           0|            30| United-States| <=50K|   30|[0.0,0.0,30.0]|[0.0,0.0224189376...|[0.0,0.0022418937...|      30.0|\n",
            "+---+---------+------+---------+-------------+--------------+----------+------------+------+-------+------------+------------+--------------+--------------+------+-----+--------------+--------------------+--------------------+----------+\n",
            "only showing top 3 rows\n",
            "\n",
            "Test set accuracy = 0.8344527553045337\n"
          ],
          "name": "stdout"
        }
      ]
    },
    {
      "cell_type": "code",
      "metadata": {
        "id": "tWWGRheo1KeX",
        "colab_type": "code",
        "colab": {
          "base_uri": "https://localhost:8080/",
          "height": 205
        },
        "outputId": "184b969e-246b-492e-f21b-9c7c7749a1f3"
      },
      "source": [
        "from pyspark.ml.classification import RandomForestClassifier\n",
        "\n",
        "# create the trainer and set its parameters\n",
        "nb3 = RandomForestClassifier(labelCol=\"label\", featuresCol=\"features\", numTrees=100)\n",
        "\n",
        "# train the model\n",
        "model3 = nb3.fit(train)\n",
        "\n",
        "# select example rows to display.\n",
        "predictions = model3.transform(test)\n",
        "predictions.show(3)\n",
        "\n",
        "# compute accuracy on the test set\n",
        "evaluator = MulticlassClassificationEvaluator(labelCol=\"label\", predictionCol=\"prediction\",\n",
        "                                              metricName=\"accuracy\")\n",
        "accuracy = evaluator.evaluate(predictions)\n",
        "print(\"Test set accuracy = \" + str(accuracy))"
      ],
      "execution_count": 34,
      "outputs": [
        {
          "output_type": "stream",
          "text": [
            "+---+---------+------+---------+-------------+--------------+----------+------------+------+-------+------------+------------+--------------+--------------+------+-----+--------------+--------------------+--------------------+----------+\n",
            "|age|workclass|fnlwgt|education|education-num|marital-status|occupation|relationship|  race|    sex|capital-gain|capital-loss|hours-per-week|native-country|     X|label|      features|       rawPrediction|         probability|prediction|\n",
            "+---+---------+------+---------+-------------+--------------+----------+------------+------+-------+------------+------------+--------------+--------------+------+-----+--------------+--------------------+--------------------+----------+\n",
            "| 17|        ?| 34019|     10th|            6| Never-married|         ?|   Own-child| White|   Male|           0|           0|            20| United-States| <=50K|   20|[0.0,0.0,20.0]|[0.0,0.4662290082...|[0.0,0.0046622900...|      20.0|\n",
            "| 17|        ?| 34088|     12th|            8| Never-married|         ?|   Own-child| White| Female|           0|           0|            25| United-States| <=50K|   25|[0.0,0.0,25.0]|[0.0,0.3469419755...|[0.0,0.0034694197...|      25.0|\n",
            "| 17|        ?| 48703|     11th|            7| Never-married|         ?|   Own-child| White| Female|           0|           0|            30| United-States| <=50K|   30|[0.0,0.0,30.0]|[0.0,0.1603237219...|[0.0,0.0016032372...|      30.0|\n",
            "+---+---------+------+---------+-------------+--------------+----------+------------+------+-------+------------+------------+--------------+--------------+------+-----+--------------+--------------------+--------------------+----------+\n",
            "only showing top 3 rows\n",
            "\n",
            "Test set accuracy = 0.8519310029003205\n"
          ],
          "name": "stdout"
        }
      ]
    },
    {
      "cell_type": "code",
      "metadata": {
        "id": "WR9WtFy11Oo5",
        "colab_type": "code",
        "colab": {
          "base_uri": "https://localhost:8080/",
          "height": 50
        },
        "outputId": "0352e38e-438e-41fb-b641-c961301a6dfd"
      },
      "source": [
        "#clustering\n",
        "from pyspark.ml.clustering import KMeans\n",
        "dataset_diabetes_df = spark.read.format(\"csv\").option(\"header\", True).option(\"inferSchema\", True).option(\"delimiter\", \",\").load(r\"diabetic_data.csv\")\n",
        "dataset_diabetes_df = dataset_diabetes_df.select(\"admission_type_id\", \"discharge_disposition_id\", \"admission_source_id\", \"time_in_hospital\", \"num_lab_procedures\")\n",
        "\n",
        "# vector assembler for feature columns\n",
        "assembler = VectorAssembler(inputCols=dataset_diabetes_df.columns, outputCol=\"features\")\n",
        "data = assembler.transform(dataset_diabetes_df)\n",
        "\n",
        "#k-means model.\n",
        "kmeans = KMeans().setK(2).setSeed(1)\n",
        "\n",
        "model = kmeans.fit(data)\n",
        "\n",
        "# Make predictions\n",
        "predictions = model.transform(data)\n",
        "\n",
        "# Shows the result.\n",
        "centers = model.clusterCenters()\n",
        "for center in centers:\n",
        "    print(center)"
      ],
      "execution_count": 35,
      "outputs": [
        {
          "output_type": "stream",
          "text": [
            "[ 1.83677572  3.79369994  5.86290976  4.99109951 55.71866995]\n",
            "[ 2.31211955  3.5955244   5.58751622  3.48021655 23.67109071]\n"
          ],
          "name": "stdout"
        }
      ]
    },
    {
      "cell_type": "code",
      "metadata": {
        "id": "2-FznA3U1VkV",
        "colab_type": "code",
        "colab": {}
      },
      "source": [
        "linear_data_df = spark.read.format(\"csv\").option(\"header\", True)\\\n",
        ".option(\"inferSchema\", True).option(\"delimiter\", \",\")\\\n",
        ".load(r\"imports-85.csv\")\n",
        "linear_data_df1 = linear_data_df.withColumnRenamed(\"wheel-base\", \"label\").select(\"label\", \"length\", \"width\", \"height\")"
      ],
      "execution_count": 36,
      "outputs": []
    },
    {
      "cell_type": "code",
      "metadata": {
        "id": "SN5v1seb1W1v",
        "colab_type": "code",
        "colab": {
          "base_uri": "https://localhost:8080/",
          "height": 574
        },
        "outputId": "4cdaea2c-fe08-48a5-b58e-04eb53ef453c"
      },
      "source": [
        "from pyspark.ml.regression import LinearRegression\n",
        "\n",
        "assembler = VectorAssembler(inputCols=linear_data_df1.columns[1:], outputCol=\"features\")\n",
        "y = assembler.transform(linear_data_df1)\n",
        "\n",
        "lr = LinearRegression(maxIter=10, regParam=0.3, elasticNetParam=0.8)\n",
        "model = lr.fit(y)\n",
        "\n",
        "# Print the coefficients and intercept for linear regression\n",
        "print(\"Coefficients: %s\" % str(model.coefficients))\n",
        "print(\"Intercept: %s\" % str(model.intercept))\n",
        "\n",
        "# Summarize the model over the training set and print out some metrics\n",
        "trainingSummary = model.summary\n",
        "print(\"numIterations: %d\" % trainingSummary.totalIterations)\n",
        "print(\"objectiveHistory: %s\" % str(trainingSummary.objectiveHistory))\n",
        "trainingSummary.residuals.show()\n",
        "print(\"RMSE: %f\" % trainingSummary.rootMeanSquaredError)\n",
        "print(\"r2: %f\" % trainingSummary.r2)"
      ],
      "execution_count": 37,
      "outputs": [
        {
          "output_type": "stream",
          "text": [
            "Coefficients: [0.22836801258821893,0.8223218915856468,0.580595102043434]\n",
            "Intercept: -26.380531957157498\n",
            "numIterations: 11\n",
            "objectiveHistory: [0.5, 0.38579526656819896, 0.13000842393266873, 0.12985504772567413, 0.12963704261349218, 0.12947103310674205, 0.1294164378448031, 0.1294050846483987, 0.12940508261516015, 0.1294050824628613, 0.12940508245526855]\n",
            "+--------------------+\n",
            "|           residuals|\n",
            "+--------------------+\n",
            "|  -4.611862798093398|\n",
            "|  -4.611862798093398|\n",
            "|  -2.501339043881387|\n",
            "|-0.11328232985025011|\n",
            "| -0.6777467081673763|\n",
            "|  0.3413419946315486|\n",
            "|  -2.878914311626758|\n",
            "|  -2.878914311626758|\n",
            "| -2.9950333320354474|\n",
            "| -0.8412496309870932|\n",
            "|  2.3922947158520174|\n",
            "|  2.3922947158520174|\n",
            "|  2.3922947158520174|\n",
            "|  2.3922947158520174|\n",
            "| -0.6335041529149237|\n",
            "| -0.6335041529149237|\n",
            "| -1.3908023008371515|\n",
            "|  0.4019071188106693|\n",
            "|   2.084135889634638|\n",
            "|   2.787341183548463|\n",
            "+--------------------+\n",
            "only showing top 20 rows\n",
            "\n",
            "RMSE: 2.517190\n",
            "r2: 0.824407\n"
          ],
          "name": "stdout"
        }
      ]
    },
    {
      "cell_type": "code",
      "metadata": {
        "id": "6z10ch_E1aSj",
        "colab_type": "code",
        "colab": {}
      },
      "source": [
        "from pyspark.sql.functions import col, when\n",
        "logistic_df = linear_data_df.withColumn(\"label\", when(col(\"num-of-doors\") == \"four\", 1).otherwise(0)).select(\"label\", \"length\", \"width\", \"height\")"
      ],
      "execution_count": 38,
      "outputs": []
    },
    {
      "cell_type": "code",
      "metadata": {
        "id": "xKgf58Yq1iIq",
        "colab_type": "code",
        "colab": {
          "base_uri": "https://localhost:8080/",
          "height": 50
        },
        "outputId": "eb81c4c5-0009-4a36-c408-d425cdec6a48"
      },
      "source": [
        "from pyspark.ml.classification import LogisticRegression\n",
        "assembler = VectorAssembler(inputCols=logistic_df.columns[1:], outputCol=\"features\")\n",
        "z = assembler.transform(logistic_df)\n",
        "\n",
        "lr = LogisticRegression(maxIter=10, regParam=0.3, elasticNetParam=0.8)\n",
        "\n",
        "# Fit the model\n",
        "model = lr.fit(z)\n",
        "\n",
        "# Print the coefficients and intercept for logistic regression\n",
        "print(\"Coefficients: \" + str(model.coefficients))\n",
        "print(\"Intercept: \" + str(model.intercept))"
      ],
      "execution_count": 39,
      "outputs": [
        {
          "output_type": "stream",
          "text": [
            "Coefficients: [0.0,0.0,0.000100509510875788]\n",
            "Intercept: 0.22531532410664368\n"
          ],
          "name": "stdout"
        }
      ]
    },
    {
      "cell_type": "code",
      "metadata": {
        "id": "U1l6cz7e1lhz",
        "colab_type": "code",
        "colab": {
          "base_uri": "https://localhost:8080/",
          "height": 67
        },
        "outputId": "b4da4aca-5e51-4b1e-ea5e-40e226f904c2"
      },
      "source": [
        "mlr = LogisticRegression(maxIter=10, regParam=0.3, elasticNetParam=0.8, family=\"multinomial\")\n",
        "\n",
        "# Fit the model\n",
        "mlr_model = mlr.fit(z)\n",
        "\n",
        "# Print the coefficients and intercepts for logistic regression with multinomial family\n",
        "print(\"Multinomial coefficients: \" + str(mlr_model.coefficientMatrix))\n",
        "print(\"Multinomial intercepts: \" + str(mlr_model.interceptVector))"
      ],
      "execution_count": 40,
      "outputs": [
        {
          "output_type": "stream",
          "text": [
            "Multinomial coefficients: DenseMatrix([[ 0.00000000e+00,  0.00000000e+00, -7.35292649e-05],\n",
            "             [ 0.00000000e+00,  0.00000000e+00,  7.35292649e-05]])\n",
            "Multinomial intercepts: [-0.11156262444620539,0.11156262444620539]\n"
          ],
          "name": "stdout"
        }
      ]
    }
  ]
}